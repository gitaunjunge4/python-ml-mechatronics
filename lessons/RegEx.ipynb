{
 "cells": [
  {
   "cell_type": "markdown",
   "id": "f296b152",
   "metadata": {},
   "source": [
    "RegEx\n",
    "\n",
    "it is a special string that helps find patterns in in data "
   ]
  },
  {
   "cell_type": "markdown",
   "id": "7acd7c2f",
   "metadata": {},
   "source": [
    "Methods in the re module \n",
    "\n",
    "re.match(): searches only in the beginning of the first line of the string and returns matched objects if found, else returns None.\n",
    "\n",
    "re.search: Returns a match object if there is one anywhere in the string, including multiline strings.\n",
    "\n",
    "re.findall: Returns a list containing all matches\n",
    "\n",
    "re.split: Takes a string, splits it at the match points, returns a list\n",
    "\n",
    "re.sub: Replaces one or many matches within a string\n"
   ]
  },
  {
   "cell_type": "markdown",
   "id": "fa33fa16",
   "metadata": {},
   "source": [
    "Match\n",
    "\n",
    "syntax: \n",
    "re.match(substring, string, re.I)\n",
    "#substring is a string/ pattern, -string is the text we look for a pattern , -re.I is case ignore"
   ]
  },
  {
   "cell_type": "code",
   "execution_count": 6,
   "id": "27e1b6d8",
   "metadata": {},
   "outputs": [
    {
     "name": "stdout",
     "output_type": "stream",
     "text": [
      "<re.Match object; span=(0, 15), match='I love to teach'>\n",
      "(0, 15)\n"
     ]
    }
   ],
   "source": [
    "import re\n",
    "\n",
    "txt = 'I love to teach python and javaScript'\n",
    "# It returns an object with span, and match\n",
    "match = re.match('I love to teach', txt, re.I)\n",
    "print(match)  # <re.Match object; span=(0, 15), match='I love to teach'>\n",
    "# We can get the starting and ending position of the match as tuple using span\n",
    "print(match.span())"
   ]
  },
  {
   "cell_type": "markdown",
   "id": "43377e4b",
   "metadata": {},
   "source": [
    "Search \n",
    "\n",
    "#syntax\n",
    "re.search(substring, string, re.I)\n",
    "#substring is a pattern, string is the text we look for a pattern , re.I is case ignore"
   ]
  },
  {
   "cell_type": "code",
   "execution_count": 7,
   "id": "6e130f76",
   "metadata": {},
   "outputs": [
    {
     "name": "stdout",
     "output_type": "stream",
     "text": [
      "<re.Match object; span=(100, 105), match='first'>\n",
      "(100, 105)\n",
      "100 105\n",
      "first\n"
     ]
    }
   ],
   "source": [
    "import re\n",
    "\n",
    "txt = '''Python is the most beautiful language that a human being has ever created.\n",
    "I recommend python for a first programming language'''\n",
    "\n",
    "# It returns an object with span and match\n",
    "match = re.search('first', txt, re.I)\n",
    "print(match)  # <re.Match object; span=(100, 105), match='first'>\n",
    "# We can get the starting and ending position of the match as tuple using span\n",
    "span = match.span()\n",
    "print(span)     # (100, 105)\n",
    "# Lets find the start and stop position from the span\n",
    "start, end = span\n",
    "print(start, end)  # 100 105\n",
    "substring = txt[start:end]\n",
    "print(substring)       # first"
   ]
  },
  {
   "cell_type": "markdown",
   "id": "7cfd284e",
   "metadata": {},
   "source": [
    "Searching for All Matches Using findall\n",
    "\n",
    "findall() returns all the matches as a list "
   ]
  },
  {
   "cell_type": "code",
   "execution_count": 14,
   "id": "984dc4e9",
   "metadata": {},
   "outputs": [
    {
     "name": "stdout",
     "output_type": "stream",
     "text": [
      "['language', 'language']\n",
      "['Python', 'python']\n",
      "['Python', 'python']\n"
     ]
    }
   ],
   "source": [
    "txt = '''Python is the most beautiful language that a human being has ever created.\n",
    "I recommend python for a first programming language'''\n",
    "\n",
    "# It return a list\n",
    "matches = re.findall('language', txt, re.I)\n",
    "print(matches)  \n",
    "\n",
    "# re.I both lowercase and uppercase letters are included.\n",
    "\n",
    "\n",
    "matches = re.findall('Python|python', txt) #specifing the case sensitive words\n",
    "print(matches)  \n",
    "\n",
    "#\n",
    "matches = re.findall('[Pp]ython', txt) #specifing the case sensitive words\n",
    "print(matches)  "
   ]
  },
  {
   "cell_type": "markdown",
   "id": "887df7da",
   "metadata": {},
   "source": [
    "Replacing a substring \n",
    "\n",
    "using re.sub(what_to_sub, to_sub_with, txt_to_sub)"
   ]
  },
  {
   "cell_type": "code",
   "execution_count": null,
   "id": "20d4856d",
   "metadata": {},
   "outputs": [
    {
     "name": "stdout",
     "output_type": "stream",
     "text": [
      "JavaScript is the most beautiful language that a human being has ever created.\n",
      "I recommend JavaScript for a first programming language\n",
      "JavaScript is the most beautiful language that a human being has ever created.\n",
      "I recommend JavaScript for a first programming language\n"
     ]
    }
   ],
   "source": [
    "txt = '''Python is the most beautiful language that a human being has ever created.\n",
    "I recommend python for a first programming language'''\n",
    "\n",
    "match_replaced = re.sub('Python|python', 'JavaScript', txt, re.I)\n",
    "print(match_replaced)  # JavaScript is the most beautiful language that a human being has ever created.\n",
    "# OR\n",
    "match_replaced = re.sub('[Pp]ython', 'JavaScript', txt, re.I)\n",
    "print(match_replaced)  # JavaScript is the most beautiful language that a human being has ever created."
   ]
  },
  {
   "cell_type": "markdown",
   "id": "9c1046b0",
   "metadata": {},
   "source": [
    "Splitting Text Using RegEx Split\n",
    "\n"
   ]
  },
  {
   "cell_type": "code",
   "execution_count": 16,
   "id": "15338230",
   "metadata": {},
   "outputs": [
    {
     "name": "stdout",
     "output_type": "stream",
     "text": [
      "['I am teacher and  I love teaching.', 'There is nothing as rewarding as educating and empowering people.', 'I found teaching more interesting than any other jobs.', 'Does this motivate you to be a teacher?']\n"
     ]
    }
   ],
   "source": [
    "txt = '''I am teacher and  I love teaching.\n",
    "There is nothing as rewarding as educating and empowering people.\n",
    "I found teaching more interesting than any other jobs.\n",
    "Does this motivate you to be a teacher?'''\n",
    "\n",
    "print(re.split('\\n', txt)) # splitting using \\n - end of line symbol"
   ]
  },
  {
   "cell_type": "markdown",
   "id": "f82b5876",
   "metadata": {},
   "source": [
    "Writing RegEx Patterns\n",
    "\n",
    "when decraling a regex var we use 'r'"
   ]
  },
  {
   "cell_type": "code",
   "execution_count": 17,
   "id": "65ce9ece",
   "metadata": {},
   "outputs": [
    {
     "name": "stdout",
     "output_type": "stream",
     "text": [
      "['apple']\n",
      "['Apple', 'apple']\n",
      "['Apple', 'apple']\n"
     ]
    }
   ],
   "source": [
    "import re\n",
    "\n",
    "regex_pattern = r'apple'\n",
    "txt = 'Apple and banana are fruits. An old cliche says an apple a day a doctor way has been replaced by a banana a day keeps the doctor far far away. '\n",
    "matches = re.findall(regex_pattern, txt)\n",
    "print(matches)  # ['apple']\n",
    "\n",
    "# To make case insensitive adding flag '\n",
    "matches = re.findall(regex_pattern, txt, re.I)\n",
    "print(matches)  # ['Apple', 'apple']\n",
    "# or we can use a set of characters method\n",
    "regex_pattern = r'[Aa]pple'  # this mean the first letter could be Apple or apple\n",
    "matches = re.findall(regex_pattern, txt)\n",
    "print(matches)  # ['Apple', 'apple']\n"
   ]
  },
  {
   "attachments": {
    "image.png": {
     "image/png": "[encoded data removed]"
    }
   },
   "cell_type": "markdown",
   "id": "56508806",
   "metadata": {},
   "source": [
    "![image.png](attachment:image.png)"
   ]
  },
  {
   "cell_type": "code",
   "execution_count": null,
   "id": "87b54609",
   "metadata": {},
   "outputs": [
    {
     "name": "stdout",
     "output_type": "stream",
     "text": [
      "['6', '2019', '8', '2021']\n"
     ]
    }
   ],
   "source": [
    "# One or more times(+)\n",
    "\n",
    "regex_pattern = r'\\d+'  # d is a special character which means digits, + mean one or more times\n",
    "txt = 'This regular expression example was made on December 6,  2019 and revised on July 8, 2021'\n",
    "matches = re.findall(regex_pattern, txt)\n",
    "print(matches)  # ['6', '2019', '8', '2021'] - now, this is better!"
   ]
  },
  {
   "cell_type": "code",
   "execution_count": 20,
   "id": "9a3c3e3b",
   "metadata": {},
   "outputs": [
    {
     "name": "stdout",
     "output_type": "stream",
     "text": [
      "['an', 'an', 'an', 'a ', 'ar']\n",
      "['and banana are fruits']\n"
     ]
    }
   ],
   "source": [
    "# Period(.)\n",
    "\n",
    "regex_pattern = r'[a].'  # this square bracket means a and . means any character except new line\n",
    "txt = '''Apple and banana are fruits'''\n",
    "matches = re.findall(regex_pattern, txt)\n",
    "print(matches)  # ['an', 'an', 'an', 'a ', 'ar']\n",
    "\n",
    "regex_pattern = r'[a].+'  # . any character, + any character one or more times \n",
    "matches = re.findall(regex_pattern, txt)\n",
    "print(matches)  # ['and banana are fruits']"
   ]
  },
  {
   "cell_type": "code",
   "execution_count": 22,
   "id": "c16c2740",
   "metadata": {},
   "outputs": [
    {
     "name": "stdout",
     "output_type": "stream",
     "text": [
      "['and banana are fruits']\n",
      "['e-mail', 'email', 'Email', 'E-mail']\n"
     ]
    }
   ],
   "source": [
    "# Zero or more times(*)\n",
    "# pattern may not occur or it may occur many times \n",
    "\n",
    "regex_pattern = r'[a].*'  # . any character, * any character zero or more times \n",
    "txt = '''Apple and banana are fruits'''\n",
    "matches = re.findall(regex_pattern, txt)\n",
    "print(matches)  # ['and banana are fruits']\n",
    "\n",
    "\n",
    "# Zero or one time(?)\n",
    "# pattern may not occur or it may occur once  \n",
    "txt = '''I am not sure if there is a convention how to write the word e-mail.\n",
    "Some people write it as email others may write it as Email or E-mail.'''\n",
    "regex_pattern = r'[Ee]-?mail'  # ? means here that '-' is optional\n",
    "matches = re.findall(regex_pattern, txt)\n",
    "print(matches)  # ['e-mail', 'email', 'Email', 'E-mail']\n"
   ]
  },
  {
   "cell_type": "code",
   "execution_count": 42,
   "id": "3a26f32d",
   "metadata": {},
   "outputs": [
    {
     "name": "stdout",
     "output_type": "stream",
     "text": [
      "['2019', '2021']\n",
      "['6', '2019', '8', '2021']\n"
     ]
    }
   ],
   "source": [
    "# Quantifier in RegEx\n",
    "# We can specify the length of the substring we are looking for in a text, using a curly bracket. \n",
    "# Let us imagine, we are interested in a substring with a length of 4 characters:\n",
    "\n",
    "txt = 'This regular expression example was made on December 6,  2019 and revised on July 8, 2021'\n",
    "regex_pattern = r'\\d{4}'  # exactly four times\n",
    "matches = re.findall(regex_pattern, txt)\n",
    "print(matches)  # ['2019', '2021']\n",
    "\n",
    "txt = 'This regular expression example was made on December 6,  2019 and revised on July 8, 2021'\n",
    "regex_pattern = r'\\d{1,4}'   # 1 to 4\n",
    "matches = re.findall(regex_pattern, txt)\n",
    "print(matches)  # ['6', '2019', '8', '2021']"
   ]
  },
  {
   "cell_type": "markdown",
   "id": "afbd7136",
   "metadata": {},
   "source": [
    "Cart ^"
   ]
  },
  {
   "cell_type": "code",
   "execution_count": 45,
   "id": "60061c8e",
   "metadata": {},
   "outputs": [
    {
     "name": "stdout",
     "output_type": "stream",
     "text": [
      "['This']\n"
     ]
    }
   ],
   "source": [
    "# starts with (it is inside the sq brackets )\n",
    "\n",
    "txt = 'This regular expression example was made on December 6,  2019 and revised on July 8, 2021'\n",
    "regex_pattern = r'^This'  # ^ means starts with\n",
    "matches = re.findall(regex_pattern, txt)\n",
    "print(matches)  # ['This']"
   ]
  },
  {
   "cell_type": "code",
   "execution_count": 48,
   "id": "775b3792",
   "metadata": {},
   "outputs": [
    {
     "name": "stdout",
     "output_type": "stream",
     "text": [
      "['6,', '2019', '8,', '2021']\n"
     ]
    }
   ],
   "source": [
    "# negation (it is inside the sq brackets )\n",
    "\n",
    "txt = 'This regular expression example was made on December 6,  2019 and revised on July 8, 2021'\n",
    "regex_pattern = r'[^A-Za-z ]+'  # ^ in set character means negation, not A to Z, not a to z, no space\n",
    "matches = re.findall(regex_pattern, txt)\n",
    "print(matches)  # ['6,', '2019', '8', '2021']"
   ]
  },
  {
   "cell_type": "markdown",
   "id": "1c26547a",
   "metadata": {},
   "source": [
    "Exercises: Level 1\n",
    "\n",
    "1. What is the most frequent word in the following paragraph?\n",
    "\n",
    "paragraph = 'I love teaching. If you do not love teaching what else can you love. I love Python if you do not love something which can give you all the capabilities to develop an application what else can you love.\n"
   ]
  },
  {
   "cell_type": "code",
   "execution_count": null,
   "id": "c4d3697d",
   "metadata": {},
   "outputs": [
    {
     "name": "stdout",
     "output_type": "stream",
     "text": [
      "('love', 6)\n"
     ]
    }
   ],
   "source": [
    "import re \n",
    "from collections import Counter \n",
    "\n",
    "paragraph = 'I love teaching. If you do not love teaching what else can you love. I love Python if you do not love something which can give you all the capabilities to develop an application what else can you love'\n",
    "\n",
    "words = re.findall(r'\\b\\w+\\b', paragraph.lower())\n",
    "word_count = Counter(words) #returns an obj of words and count\n",
    "\n",
    "sorted_words = sorted(word_count.items(), key = lambda x: x[1], reverse = True) \n",
    "# print(sorted_words[0]) prints the most frequent word "
   ]
  },
  {
   "cell_type": "markdown",
   "id": "4a68b782",
   "metadata": {},
   "source": [
    "2. The position of some particles on the horizontal x-axis are -12, -4, -3 and -1 in the negative direction, 0 at origin, 4 and 8 in the positive direction. Extract these numbers from this whole text and find the distance between the two furthest particles.\n",
    "\n",
    "points = ['-12', '-4', '-3', '-1', '0', '4', '8']"
   ]
  },
  {
   "cell_type": "code",
   "execution_count": 73,
   "id": "c5718311",
   "metadata": {},
   "outputs": [
    {
     "name": "stdout",
     "output_type": "stream",
     "text": [
      "[-12, -4, -3, -1, 0, 4, 8]\n",
      "20\n"
     ]
    }
   ],
   "source": [
    "import re \n",
    "\n",
    "points = ['-12', '-4', '-3', '-1', '0', '4', '8']\n",
    "integer = r'^[+-]?\\d+'\n",
    "\n",
    "numbers = [int(re.match(integer, point).group()) for point in points] #.group() Extracts the actual matched text from that match object\n",
    "sorted_points = sorted(numbers)\n",
    "\n",
    "distance = sorted_points[-1] - sorted_points[0]\n",
    "print(sorted_points)\n",
    "print(distance)"
   ]
  },
  {
   "cell_type": "markdown",
   "id": "2fb1ab3a",
   "metadata": {},
   "source": [
    "Write a pattern which identifies if a string is a valid python variable\n",
    "\n",
    "is_valid_variable('first_name') # True\n",
    "\n",
    "is_valid_variable('first-name') # \n",
    "\n",
    "is_valid_variable('1first_name') # False\n",
    "\n",
    "is_valid_variable('firstname') # True"
   ]
  },
  {
   "cell_type": "code",
   "execution_count": null,
   "id": "e9dcee1f",
   "metadata": {},
   "outputs": [
    {
     "name": "stdout",
     "output_type": "stream",
     "text": [
      "True\n",
      "False\n",
      "False\n",
      "True\n"
     ]
    }
   ],
   "source": [
    "import re \n",
    "\n",
    "\"func is to match an dcheck if it contains any of the improper py syntax and returns true/ false depending on the evaluation \"\n",
    "def is_valid_var(value):\n",
    "    valid_python_syntax = r'^[a-zA-z_]\\w*$'\n",
    "    word = re.match(valid_python_syntax, value)\n",
    "    if word:\n",
    "        return True\n",
    "    else:\n",
    "        return False \n",
    "\n",
    "\n",
    "# ^\tStart of the string\n",
    "# [a-zA-Z_]\tFirst character must be a letter (uppercase or lowercase) or underscore\n",
    "# \\w*\tFollowed by zero or more word characters (letters, digits, or underscore)\n",
    "# $\tEnd of the string (ensures entire string matches)   \n",
    "print(is_valid_var('first_name'))  \n",
    "print(is_valid_var('first-name'))  \n",
    "print(is_valid_var('1first_name'))  \n",
    "print(is_valid_var('firstname')) "
   ]
  },
  {
   "cell_type": "markdown",
   "id": "ff02e525",
   "metadata": {},
   "source": [
    "Clean the following text. After cleaning, count three most frequent words in the string.\n",
    "\n",
    "sentence = '''%I $am@% a %tea@cher%, &and& I lo%#ve %tea@ching%;. There $is nothing; &as& mo@re rewarding as educa@ting &and& @emp%o@wering \n",
    "peo@ple. ;I found tea@ching m%o@re interesting tha@n any other %jo@bs. %Do@es thi%s mo@tivate yo@u to be a tea@cher!?'''\n",
    "\n",
    "print(clean_text(sentence));\n",
    "\n",
    "I am a teacher and I love teaching There is nothing as more rewarding as educating and empowering people I found teaching more interesting than any other jobs Does this motivate you to be a teacher\n",
    "\n",
    "print(most_frequent_words(cleaned_text)) # [(3, 'I'), (2, 'teaching'), (2, 'teacher')]"
   ]
  },
  {
   "cell_type": "code",
   "execution_count": 110,
   "id": "4e631c76",
   "metadata": {},
   "outputs": [
    {
     "name": "stdout",
     "output_type": "stream",
     "text": [
      "I am a teacher, and I love teaching. There is nothing as more rewarding as educating and empowering \n",
      "people. I found teaching more interesting than any other jobs. Does this motivate you to be a teacher?\n",
      "[('I', 3), ('a', 2), ('teacher', 2)]\n"
     ]
    }
   ],
   "source": [
    "import re \n",
    "from collections import Counter\n",
    "\n",
    "sentence = '''%I $am@% a %tea@cher%, &and& I lo%#ve %tea@ching%;. There $is nothing; &as& mo@re rewarding as educa@ting &and& @emp%o@wering \n",
    "peo@ple. ;I found tea@ching m%o@re interesting tha@n any other %jo@bs. %Do@es thi%s mo@tivate yo@u to be a tea@cher!?'''\n",
    "\n",
    "def clean_text(sentence_value):\n",
    "    regex_pattern = r'[^a-zA-Z\\s\\.,:?]'\n",
    "    cleaned_sentence = re.sub(regex_pattern, '', sentence_value)\n",
    "    return cleaned_sentence\n",
    "\n",
    "print(clean_text(sentence))\n",
    "\n",
    "def most_frequent_words(value):\n",
    "    words = re.findall(r'\\b\\w+\\b', value )\n",
    "    word_counted = Counter(words)\n",
    "    cleaned_text = sorted(word_counted.items(), key = lambda x: x[1], reverse = True) \n",
    "    return cleaned_text[0:3]\n",
    "\n",
    "print(most_frequent_words(clean_text(sentence)))"
   ]
  }
 ],
 "metadata": {
  "kernelspec": {
   "display_name": "Python 3",
   "language": "python",
   "name": "python3"
  },
  "language_info": {
   "codemirror_mode": {
    "name": "ipython",
    "version": 3
   },
   "file_extension": ".py",
   "mimetype": "text/x-python",
   "name": "python",
   "nbconvert_exporter": "python",
   "pygments_lexer": "ipython3",
   "version": "3.12.5"
  }
 },
 "nbformat": 4,
 "nbformat_minor": 5
}
