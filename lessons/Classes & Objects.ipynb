{
 "cells": [
  {
   "cell_type": "markdown",
   "id": "a09224f6",
   "metadata": {},
   "source": [
    "# Classes and Objects"
   ]
  },
  {
   "cell_type": "markdown",
   "id": "47ce9b9e",
   "metadata": {},
   "source": [
    "We create class to create an object. \n",
    "\n",
    "A class is like an object constructor, or a \"blueprint\" for creating objects. \n",
    "\n",
    "We instantiate a class to create an object. \n",
    "\n",
    "The class defines attributes and the behavior of the object, while the object, represents the class."
   ]
  },
  {
   "cell_type": "code",
   "execution_count": 1,
   "id": "31025cf4",
   "metadata": {},
   "outputs": [
    {
     "name": "stdout",
     "output_type": "stream",
     "text": [
      "<class '__main__.Person'>\n"
     ]
    }
   ],
   "source": [
    "class Person:\n",
    "    pass\n",
    "print(Person)"
   ]
  },
  {
   "cell_type": "markdown",
   "id": "970e2916",
   "metadata": {},
   "source": [
    "The init constructor function has self parameter which is a reference to the current instance of the class"
   ]
  },
  {
   "cell_type": "code",
   "execution_count": 6,
   "id": "a4f81936",
   "metadata": {},
   "outputs": [
    {
     "name": "stdout",
     "output_type": "stream",
     "text": [
      "Gitau\n",
      "Njung'e\n",
      "20\n",
      "Kenya\n",
      "Kiambu\n"
     ]
    }
   ],
   "source": [
    "class Person:\n",
    "    def __init__(self, firstname, lastname, age, country, city):\n",
    "        # self allows to attach parameter to the class\n",
    "        self.firstname = firstname\n",
    "        self.lastname = lastname\n",
    "        self.age = age\n",
    "        self.country = country\n",
    "        self.city = city\n",
    "\n",
    "p = Person('Gitau', 'Njung\\'e', 20, 'Kenya', 'Kiambu')\n",
    "print(p.firstname)\n",
    "print(p.lastname)\n",
    "print(p.age)\n",
    "print(p.country)\n",
    "print(p.city)"
   ]
  },
  {
   "cell_type": "markdown",
   "id": "5b74b892",
   "metadata": {},
   "source": [
    "Object Methods- The methods are functions which belong to the object."
   ]
  },
  {
   "cell_type": "code",
   "execution_count": 7,
   "id": "e492b2a0",
   "metadata": {},
   "outputs": [
    {
     "name": "stdout",
     "output_type": "stream",
     "text": [
      "Gitau Njung'e is 20 years old. He lives in Kiambu, Kenya\n"
     ]
    }
   ],
   "source": [
    "class Person:\n",
    "    def __init__(self, firstname, lastname, age, country, city):\n",
    "        self.firstname = firstname\n",
    "        self.lastname = lastname\n",
    "        self.age = age\n",
    "        self.country = country\n",
    "        self.city = city\n",
    "\n",
    "    def person_info(self):\n",
    "        return f'{self.firstname} {self.lastname} is {self.age} years old. He lives in {self.city}, {self.country}'\n",
    "\n",
    "p = Person('Gitau', 'Njung\\'e', 20, 'Kenya', 'Kiambu')\n",
    "print(p.person_info())"
   ]
  },
  {
   "cell_type": "markdown",
   "id": "1cfb781c",
   "metadata": {},
   "source": [
    "Method to Modify Class Default Values"
   ]
  },
  {
   "cell_type": "code",
   "execution_count": null,
   "id": "375e850c",
   "metadata": {},
   "outputs": [
    {
     "name": "stdout",
     "output_type": "stream",
     "text": [
      "Gitau Njung'e is 20 years old. He lives in Nairobi, Kenya.\n",
      "John Doe is 30 years old. He lives in Noman city, Nomanland.\n",
      "['HTML', 'CSS', 'JavaScript']\n",
      "[]\n"
     ]
    }
   ],
   "source": [
    "class Person:\n",
    "    def __init__(self, firstname='Gitau', lastname='Njung\\'e', age=20, country='Kenya', city='Nairobi'):\n",
    "        self.firstname = firstname\n",
    "        self.lastname = lastname\n",
    "        self.age = age\n",
    "        self.country = country\n",
    "        self.city = city\n",
    "        self.skills = []\n",
    "\n",
    "    def person_info(self):\n",
    "        return f'{self.firstname} {self.lastname} is {self.age} years old. He lives in {self.city}, {self.country}.'\n",
    "    def add_skill(self, skill):\n",
    "        self.skills.append(skill)\n",
    "\n",
    "p1 = Person()  #instantiate the obj\n",
    "print(p1.person_info())\n",
    "p1.add_skill('HTML')\n",
    "p1.add_skill('CSS')\n",
    "p1.add_skill('JavaScript')\n",
    "\n",
    "p2 = Person('John', 'Doe', 30, 'Nomanland', 'Noman city')\n",
    "print(p2.person_info())\n",
    "print(p1.skills)\n",
    "print(p2.skills)"
   ]
  },
  {
   "cell_type": "markdown",
   "id": "f82cc40c",
   "metadata": {},
   "source": [
    "Inheritance"
   ]
  },
  {
   "cell_type": "markdown",
   "id": "892c2896",
   "metadata": {},
   "source": [
    "Inheritance allows us to define a class that inherits all the methods and properties from parent class. \n",
    "\n",
    "The parent class/ super class/ base class is the class which gives all the methods and properties. \n",
    "\n",
    "Child class is the class that inherits from another or parent class."
   ]
  },
  {
   "cell_type": "code",
   "execution_count": 12,
   "id": "b0f51267",
   "metadata": {},
   "outputs": [
    {
     "name": "stdout",
     "output_type": "stream",
     "text": [
      "Tom Jerry is 30 years old. He lives in Nairobi, Kenya.\n",
      "['JavaScript', 'React', 'Python']\n",
      "Henry Danger is 28 years old. He lives in Kiambu, Kenya.\n",
      "['Organizing', 'Marketing', 'Digital Marketing']\n"
     ]
    }
   ],
   "source": [
    "class Student(Person):\n",
    "    pass\n",
    "\n",
    "s1 = Student('Tom', 'Jerry', 30, 'Kenya', 'Nairobi')\n",
    "s2 = Student('Henry', 'Danger', 28, 'Kenya', 'Kiambu')\n",
    "\n",
    "print(s1.person_info())\n",
    "s1.add_skill('JavaScript')\n",
    "s1.add_skill('React')\n",
    "s1.add_skill('Python')\n",
    "print(s1.skills)\n",
    "\n",
    "print(s2.person_info())\n",
    "s2.add_skill('Organizing')\n",
    "s2.add_skill('Marketing')\n",
    "s2.add_skill('Digital Marketing')\n",
    "print(s2.skills)\n"
   ]
  },
  {
   "cell_type": "markdown",
   "id": "a0c4eed2",
   "metadata": {},
   "source": [
    "We did not call the init() constructor in the child class. \n",
    "\n",
    "If we didn't call it then we can still access all the properties from the parent. But if we do call the constructor we can access the parent properties by calling super.\n",
    "\n",
    "We can add a new method to the child or we can override the parent class methods by creating the same method name in the child class. \n",
    "\n",
    "When we add the init() function, the child class will no longer inherit the parent's init() function."
   ]
  },
  {
   "cell_type": "markdown",
   "id": "d1d28b09",
   "metadata": {},
   "source": [
    "Overriding parent method"
   ]
  },
  {
   "cell_type": "code",
   "execution_count": 17,
   "id": "a201001e",
   "metadata": {},
   "outputs": [
    {
     "name": "stdout",
     "output_type": "stream",
     "text": [
      "Tom Jerry is 30 years old. He lives in Nairobi, Kenya.\n",
      "['JavaScript', 'React', 'Python']\n",
      "Henry Danger is 28 years old. He lives in Kiambu, Kenya.\n",
      "['Organizing', 'Marketing', 'Digital Marketing']\n"
     ]
    }
   ],
   "source": [
    "class Student(Person):\n",
    "    def __init__ (self, firstname='Gitau', lastname='Njung\\'e', age=20, country='Kenya', city='Nairobi', gender='male'):\n",
    "        self.gender = gender\n",
    "        super().__init__(firstname, lastname,age, country, city) #accessing the parent's properties\n",
    "\n",
    "    def person_info(self):\n",
    "        gender = 'He' if self.gender =='male' else 'She'\n",
    "        return f'{self.firstname} {self.lastname} is {self.age} years old. {gender} lives in {self.city}, {self.country}.'\n",
    "\n",
    "s1 = Student('Tom', 'Jerry', 30, 'Kenya', 'Nairobi', 'male')\n",
    "s2 = Student('Henry', 'Danger', 28, 'Kenya', 'Kiambu', 'male')\n",
    "\n",
    "print(s1.person_info())\n",
    "s1.add_skill('JavaScript')\n",
    "s1.add_skill('React')\n",
    "s1.add_skill('Python')\n",
    "print(s1.skills)\n",
    "\n",
    "print(s2.person_info())\n",
    "s2.add_skill('Organizing')\n",
    "s2.add_skill('Marketing')\n",
    "s2.add_skill('Digital Marketing')\n",
    "print(s2.skills)"
   ]
  },
  {
   "cell_type": "markdown",
   "id": "be5f80cb",
   "metadata": {},
   "source": [
    "# Exercises: Level 1\n",
    "Python has the module called statistics and we can use this module to do all the statistical calculations. \n",
    "\n",
    "However, to learn how to make function and reuse function let us try to develop a program, which calculates the measure of central tendency of a sample (mean, median, mode) and measure of variability (range, variance, standard deviation). \n",
    "\n",
    "In addition to those measures, find the min, max, count, percentile, and frequency distribution of the sample. \n",
    "\n",
    "You can create a class called Statistics and create all the functions that do statistical calculations as methods for the Statistics class. "
   ]
  },
  {
   "cell_type": "code",
   "execution_count": 22,
   "id": "a1ac3d01",
   "metadata": {},
   "outputs": [
    {
     "name": "stdout",
     "output_type": "stream",
     "text": [
      "29.76\n"
     ]
    }
   ],
   "source": [
    "import statistics \n",
    "\n",
    "ages = [31, 26, 34, 37, 27, 26, 32, 32, 26, 27, 27, 24, 32, 33, 27, 25, 26, 38, 37, 31, 34, 24, 33, 29, 26]\n",
    "\n",
    "class Statistics:\n",
    "    def __init__(self, data):\n",
    "        self.data = data\n",
    "\n",
    "    def mean(self):\n",
    "        return statistics.mean(self.data)\n",
    "    \n",
    "q = Statistics(ages)\n",
    "print(q.mean())"
   ]
  }
 ],
 "metadata": {
  "kernelspec": {
   "display_name": "Python 3",
   "language": "python",
   "name": "python3"
  },
  "language_info": {
   "codemirror_mode": {
    "name": "ipython",
    "version": 3
   },
   "file_extension": ".py",
   "mimetype": "text/x-python",
   "name": "python",
   "nbconvert_exporter": "python",
   "pygments_lexer": "ipython3",
   "version": "3.12.5"
  }
 },
 "nbformat": 4,
 "nbformat_minor": 5
}
