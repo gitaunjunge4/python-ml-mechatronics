{
 "cells": [
  {
   "cell_type": "markdown",
   "id": "a09224f6",
   "metadata": {},
   "source": [
    "# Classes and Objects"
   ]
  },
  {
   "cell_type": "markdown",
   "id": "47ce9b9e",
   "metadata": {},
   "source": [
    "We create class to create an object. \n",
    "\n",
    "A class is like an object constructor, or a \"blueprint\" for creating objects. \n",
    "\n",
    "We instantiate a class to create an object. \n",
    "\n",
    "The class defines attributes and the behavior of the object, while the object, represents the class."
   ]
  },
  {
   "cell_type": "code",
   "execution_count": 1,
   "id": "31025cf4",
   "metadata": {},
   "outputs": [
    {
     "name": "stdout",
     "output_type": "stream",
     "text": [
      "<class '__main__.Person'>\n"
     ]
    }
   ],
   "source": [
    "class Person:\n",
    "    pass\n",
    "print(Person)"
   ]
  },
  {
   "cell_type": "markdown",
   "id": "970e2916",
   "metadata": {},
   "source": [
    "The init constructor function has self parameter which is a reference to the current instance of the class"
   ]
  },
  {
   "cell_type": "code",
   "execution_count": 6,
   "id": "a4f81936",
   "metadata": {},
   "outputs": [
    {
     "name": "stdout",
     "output_type": "stream",
     "text": [
      "Gitau\n",
      "Njung'e\n",
      "20\n",
      "Kenya\n",
      "Kiambu\n"
     ]
    }
   ],
   "source": [
    "class Person:\n",
    "    def __init__(self, firstname, lastname, age, country, city):\n",
    "        # self allows to attach parameter to the class\n",
    "        self.firstname = firstname\n",
    "        self.lastname = lastname\n",
    "        self.age = age\n",
    "        self.country = country\n",
    "        self.city = city\n",
    "\n",
    "p = Person('Gitau', 'Njung\\'e', 20, 'Kenya', 'Kiambu')\n",
    "print(p.firstname)\n",
    "print(p.lastname)\n",
    "print(p.age)\n",
    "print(p.country)\n",
    "print(p.city)"
   ]
  },
  {
   "cell_type": "markdown",
   "id": "5b74b892",
   "metadata": {},
   "source": [
    "Object Methods- The methods are functions which belong to the object."
   ]
  },
  {
   "cell_type": "code",
   "execution_count": 7,
   "id": "e492b2a0",
   "metadata": {},
   "outputs": [
    {
     "name": "stdout",
     "output_type": "stream",
     "text": [
      "Gitau Njung'e is 20 years old. He lives in Kiambu, Kenya\n"
     ]
    }
   ],
   "source": [
    "class Person:\n",
    "    def __init__(self, firstname, lastname, age, country, city):\n",
    "        self.firstname = firstname\n",
    "        self.lastname = lastname\n",
    "        self.age = age\n",
    "        self.country = country\n",
    "        self.city = city\n",
    "\n",
    "    def person_info(self):\n",
    "        return f'{self.firstname} {self.lastname} is {self.age} years old. He lives in {self.city}, {self.country}'\n",
    "\n",
    "p = Person('Gitau', 'Njung\\'e', 20, 'Kenya', 'Kiambu')\n",
    "print(p.person_info())"
   ]
  },
  {
   "cell_type": "markdown",
   "id": "1cfb781c",
   "metadata": {},
   "source": [
    "Method to Modify Class Default Values"
   ]
  },
  {
   "cell_type": "code",
   "execution_count": null,
   "id": "375e850c",
   "metadata": {},
   "outputs": [
    {
     "name": "stdout",
     "output_type": "stream",
     "text": [
      "Gitau Njung'e is 20 years old. He lives in Nairobi, Kenya.\n",
      "John Doe is 30 years old. He lives in Noman city, Nomanland.\n",
      "['HTML', 'CSS', 'JavaScript']\n",
      "[]\n"
     ]
    }
   ],
   "source": [
    "class Person:\n",
    "    def __init__(self, firstname='Gitau', lastname='Njung\\'e', age=20, country='Kenya', city='Nairobi'):\n",
    "        self.firstname = firstname\n",
    "        self.lastname = lastname\n",
    "        self.age = age\n",
    "        self.country = country\n",
    "        self.city = city\n",
    "        self.skills = []\n",
    "\n",
    "    def person_info(self):\n",
    "        return f'{self.firstname} {self.lastname} is {self.age} years old. He lives in {self.city}, {self.country}.'\n",
    "    def add_skill(self, skill):\n",
    "        self.skills.append(skill)\n",
    "\n",
    "p1 = Person()  #instantiate the obj\n",
    "print(p1.person_info())\n",
    "p1.add_skill('HTML')\n",
    "p1.add_skill('CSS')\n",
    "p1.add_skill('JavaScript')\n",
    "\n",
    "p2 = Person('John', 'Doe', 30, 'Nomanland', 'Noman city')\n",
    "print(p2.person_info())\n",
    "print(p1.skills)\n",
    "print(p2.skills)"
   ]
  },
  {
   "cell_type": "markdown",
   "id": "f82cc40c",
   "metadata": {},
   "source": [
    "Inheritance"
   ]
  },
  {
   "cell_type": "markdown",
   "id": "892c2896",
   "metadata": {},
   "source": [
    "Inheritance allows us to define a class that inherits all the methods and properties from parent class. \n",
    "\n",
    "The parent class/ super class/ base class is the class which gives all the methods and properties. \n",
    "\n",
    "Child class is the class that inherits from another or parent class."
   ]
  },
  {
   "cell_type": "code",
   "execution_count": 12,
   "id": "b0f51267",
   "metadata": {},
   "outputs": [
    {
     "name": "stdout",
     "output_type": "stream",
     "text": [
      "Tom Jerry is 30 years old. He lives in Nairobi, Kenya.\n",
      "['JavaScript', 'React', 'Python']\n",
      "Henry Danger is 28 years old. He lives in Kiambu, Kenya.\n",
      "['Organizing', 'Marketing', 'Digital Marketing']\n"
     ]
    }
   ],
   "source": [
    "class Student(Person):\n",
    "    pass\n",
    "\n",
    "s1 = Student('Tom', 'Jerry', 30, 'Kenya', 'Nairobi')\n",
    "s2 = Student('Henry', 'Danger', 28, 'Kenya', 'Kiambu')\n",
    "\n",
    "print(s1.person_info())\n",
    "s1.add_skill('JavaScript')\n",
    "s1.add_skill('React')\n",
    "s1.add_skill('Python')\n",
    "print(s1.skills)\n",
    "\n",
    "print(s2.person_info())\n",
    "s2.add_skill('Organizing')\n",
    "s2.add_skill('Marketing')\n",
    "s2.add_skill('Digital Marketing')\n",
    "print(s2.skills)\n"
   ]
  },
  {
   "cell_type": "markdown",
   "id": "a0c4eed2",
   "metadata": {},
   "source": [
    "We did not call the init() constructor in the child class. \n",
    "\n",
    "If we didn't call it then we can still access all the properties from the parent. But if we do call the constructor we can access the parent properties by calling super.\n",
    "\n",
    "We can add a new method to the child or we can override the parent class methods by creating the same method name in the child class. \n",
    "\n",
    "When we add the init() function, the child class will no longer inherit the parent's init() function."
   ]
  },
  {
   "cell_type": "markdown",
   "id": "d1d28b09",
   "metadata": {},
   "source": [
    "Overriding parent method"
   ]
  },
  {
   "cell_type": "code",
   "execution_count": 17,
   "id": "a201001e",
   "metadata": {},
   "outputs": [
    {
     "name": "stdout",
     "output_type": "stream",
     "text": [
      "Tom Jerry is 30 years old. He lives in Nairobi, Kenya.\n",
      "['JavaScript', 'React', 'Python']\n",
      "Henry Danger is 28 years old. He lives in Kiambu, Kenya.\n",
      "['Organizing', 'Marketing', 'Digital Marketing']\n"
     ]
    }
   ],
   "source": [
    "class Student(Person):\n",
    "    def __init__ (self, firstname='Gitau', lastname='Njung\\'e', age=20, country='Kenya', city='Nairobi', gender='male'):\n",
    "        self.gender = gender\n",
    "        super().__init__(firstname, lastname,age, country, city) #accessing the parent's properties\n",
    "\n",
    "    def person_info(self):\n",
    "        gender = 'He' if self.gender =='male' else 'She'\n",
    "        return f'{self.firstname} {self.lastname} is {self.age} years old. {gender} lives in {self.city}, {self.country}.'\n",
    "\n",
    "s1 = Student('Tom', 'Jerry', 30, 'Kenya', 'Nairobi', 'male')\n",
    "s2 = Student('Henry', 'Danger', 28, 'Kenya', 'Kiambu', 'male')\n",
    "\n",
    "print(s1.person_info())\n",
    "s1.add_skill('JavaScript')\n",
    "s1.add_skill('React')\n",
    "s1.add_skill('Python')\n",
    "print(s1.skills)\n",
    "\n",
    "print(s2.person_info())\n",
    "s2.add_skill('Organizing')\n",
    "s2.add_skill('Marketing')\n",
    "s2.add_skill('Digital Marketing')\n",
    "print(s2.skills)"
   ]
  },
  {
   "cell_type": "markdown",
   "id": "be5f80cb",
   "metadata": {},
   "source": [
    "# Exercises: Level 1\n",
    "Python has the module called statistics and we can use this module to do all the statistical calculations. \n",
    "\n",
    "However, to learn how to make function and reuse function let us try to develop a program, which calculates the measure of central tendency of a sample (mean, median, mode) and measure of variability (range, variance, standard deviation). \n",
    "\n",
    "In addition to those measures, find the min, max, count, percentile, and frequency distribution of the sample. \n",
    "\n",
    "You can create a class called Statistics and create all the functions that do statistical calculations as methods for the Statistics class. "
   ]
  },
  {
   "cell_type": "code",
   "execution_count": 3,
   "id": "a1ac3d01",
   "metadata": {},
   "outputs": [
    {
     "name": "stdout",
     "output_type": "stream",
     "text": [
      "Count: 25\n",
      "Sum:  744\n",
      "Min:  24\n",
      "Max:  38\n",
      "Range:  14\n",
      "Mean:  29.76\n",
      "Median:  29\n",
      "Mode:  {'mode': 26, 'count': 5}\n",
      "Standard Deviation:  4.27\n",
      "Variance:  18.27\n",
      "Frequency Distribution:  [(24, 2), (25, 1), (26, 5), (27, 4), (29, 1), (31, 2), (32, 3), (33, 2), (34, 2), (37, 2), (38, 1)]\n"
     ]
    }
   ],
   "source": [
    "import statistics \n",
    "from collections import Counter\n",
    "\n",
    "ages = [31, 26, 34, 37, 27, 26, 32, 32, 26, 27, 27, 24, 32, 33, 27, 25, 26, 38, 37, 31, 34, 24, 33, 29, 26]\n",
    "\n",
    "class Statistics:\n",
    "    def __init__(self, data):\n",
    "        self.data = data\n",
    "\n",
    "    # count\n",
    "    def count(self):\n",
    "        return len(self.data)\n",
    "    \n",
    "    # sum\n",
    "    def sum(self):\n",
    "        return sum(self.data)\n",
    "    \n",
    "    # min\n",
    "    def min(self):\n",
    "        return min(self.data)\n",
    "    \n",
    "    # max\n",
    "    def max(self):\n",
    "        return max(self.data)\n",
    "    \n",
    "    # range\n",
    "    def range(self):\n",
    "        return max(self.data) - min(self.data)\n",
    "    \n",
    "    # mean\n",
    "    def mean(self):\n",
    "        return statistics.mean(self.data)\n",
    "    \n",
    "    # median\n",
    "    def median(self):\n",
    "        return statistics.median(self.data)\n",
    "    \n",
    "    # mode\n",
    "    def mode(self):\n",
    "        mode_value = statistics.mode(self.data)\n",
    "        count = self.data.count(mode_value)\n",
    "        return {'mode': mode_value, 'count': count}\n",
    "     \n",
    "    # Standard deviation\n",
    "    def std(self):\n",
    "        return round(statistics.stdev(self.data), 2)\n",
    "    \n",
    "    # variance\n",
    "    def var(self):\n",
    "        return round(statistics.variance(self.data), 2)\n",
    "    \n",
    "    # frequency distribution\n",
    "    def freq_dist(self):\n",
    "        freq = Counter(self.data)\n",
    "        return sorted(freq.items())\n",
    "    \n",
    "data = Statistics(ages)\n",
    "\n",
    "print('Count:', data.count()) # 25\n",
    "print('Sum: ', data.sum()) # 744\n",
    "print('Min: ', data.min()) # 24\n",
    "print('Max: ', data.max()) # 38\n",
    "print('Range: ', data.range()) # 14\n",
    "print('Mean: ', data.mean()) # 30\n",
    "print('Median: ', data.median()) # 29\n",
    "print('Mode: ', data.mode()) # {'mode': 26, 'count': 5}\n",
    "print('Standard Deviation: ', data.std()) # 4.2\n",
    "print('Variance: ', data.var()) # 17.5\n",
    "print('Frequency Distribution: ', data.freq_dist())"
   ]
  },
  {
   "cell_type": "code",
   "execution_count": 9,
   "id": "0550d51a",
   "metadata": {},
   "outputs": [
    {
     "name": "stdout",
     "output_type": "stream",
     "text": [
      "Account Holder: Gitau Njung'e\n",
      "Total Income: 65000\n",
      "Total Expense: 28000\n",
      "Account Balance: 37000\n",
      "\n",
      "Incomes:\n",
      "  - Salary: 50000\n",
      "  - Freelance: 15000\n",
      "\n",
      "Expenses:\n",
      "  - Rent: 20000\n",
      "  - Groceries: 5000\n",
      "  - Utilities: 3000\n",
      "\n"
     ]
    }
   ],
   "source": [
    "class PersonAccount:\n",
    "    def __init__(self, firstname, lastname):\n",
    "        self.firstname = firstname\n",
    "        self.lastname = lastname\n",
    "        self.incomes = {}\n",
    "        self.expenses = {}\n",
    "    \n",
    "    def add_income(self, description, amount):\n",
    "        self.incomes[description] = amount\n",
    "\n",
    "    def add_expense(self, description, amount):\n",
    "        self.expenses[description] = amount\n",
    "\n",
    "    def total_income(self):\n",
    "        return sum(self.incomes.values())\n",
    "    \n",
    "    def total_expense(self):\n",
    "        return sum(self.expenses.values())\n",
    "    \n",
    "    def account_balance(self):\n",
    "        return self.total_income() - self.total_expense()\n",
    "    \n",
    "    def account_info(self):\n",
    "        info = f\"Account Holder: {self.firstname} {self.lastname}\\n\"\n",
    "        info += f\"Total Income: {self.total_income()}\\n\"\n",
    "        info += f\"Total Expense: {self.total_expense()}\\n\"\n",
    "        info += f\"Account Balance: {self.account_balance()}\\n\"\n",
    "        info += \"\\nIncomes:\\n\"\n",
    "        for desc, amt in self.incomes.items():\n",
    "            info += f\"  - {desc}: {amt}\\n\"\n",
    "        info += \"\\nExpenses:\\n\"\n",
    "        for desc, amt in self.expenses.items():\n",
    "            info += f\"  - {desc}: {amt}\\n\"\n",
    "        return info\n",
    "        \n",
    "\n",
    "\n",
    "\n",
    "person1 = PersonAccount(\"Gitau\", \"Njung\\'e\")\n",
    "\n",
    "# Add some incomes and expenses\n",
    "person1.add_income(\"Salary\", 50000)\n",
    "person1.add_income(\"Freelance\", 15000)\n",
    "person1.add_expense(\"Rent\", 20000)\n",
    "person1.add_expense(\"Groceries\", 5000)\n",
    "person1.add_expense(\"Utilities\", 3000)\n",
    "\n",
    "# Display full account info\n",
    "print(person1.account_info())"
   ]
  }
 ],
 "metadata": {
  "kernelspec": {
   "display_name": "Python 3",
   "language": "python",
   "name": "python3"
  },
  "language_info": {
   "codemirror_mode": {
    "name": "ipython",
    "version": 3
   },
   "file_extension": ".py",
   "mimetype": "text/x-python",
   "name": "python",
   "nbconvert_exporter": "python",
   "pygments_lexer": "ipython3",
   "version": "3.12.5"
  }
 },
 "nbformat": 4,
 "nbformat_minor": 5
}
