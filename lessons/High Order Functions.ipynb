{
 "cells": [
  {
   "cell_type": "markdown",
   "id": "9f500808",
   "metadata": {},
   "source": [
    " In Python, closure is created by nesting a function inside another encapsulating function and then returning the inner function\n",
    "\n",
    " Decorators\n",
    " A decorator is a design pattern in Python that allows a user to add new functionality to an existing object without modifying its structure."
   ]
  },
  {
   "cell_type": "markdown",
   "id": "b363639c",
   "metadata": {},
   "source": [
    "map function\n",
    "filter function- calls the specified function which returns boolean for each item of the specified iterable (list). \n",
    "It filters the items that satisfy the filtering criteria.\n",
    "reduce function- returns a single value "
   ]
  },
  {
   "cell_type": "markdown",
   "id": "b8f4b748",
   "metadata": {},
   "source": [
    "### GIT EXERCISES"
   ]
  },
  {
   "cell_type": "markdown",
   "id": "29c680b5",
   "metadata": {},
   "source": [
    "map -  applies a given function to each element of an iterable and returns a new iterable containing the results of that function application \n",
    "\n",
    "filter -  constructs a new iterable from elements of an existing iterable for which a given function returns True\n",
    " \n",
    "reduce -  applies a given function cumulatively to the elements of an iterable, reducing the iterable to a single value"
   ]
  },
  {
   "cell_type": "markdown",
   "id": "eee348cb",
   "metadata": {},
   "source": [
    "closure is a nested function that remembers and can access variables from its enclosing scope, even after the outer function has finished execution and its local scope is no longer active. closure is created by nesting a function inside another encapsulating function and then returning the inner function\n",
    "\n",
    "decorator is a special type of higher-order function that wraps another function to extend or modify its behavior without changing its source code"
   ]
  },
  {
   "cell_type": "code",
   "execution_count": 14,
   "id": "cab0922e",
   "metadata": {},
   "outputs": [],
   "source": [
    "countries = ['Estonia', 'Finland', 'Sweden', 'Denmark', 'Norway', 'Iceland']\n",
    "names = ['Asabeneh', 'Lidiya', 'Ermias', 'Abraham']\n",
    "numbers = [1, 2, 3, 4, 5, 6, 7, 8, 9, 10]"
   ]
  },
  {
   "cell_type": "code",
   "execution_count": 8,
   "id": "7428ca13",
   "metadata": {},
   "outputs": [
    {
     "name": "stdout",
     "output_type": "stream",
     "text": [
      "[1, 4, 9, 16, 25, 36, 49, 64, 81, 100]\n"
     ]
    }
   ],
   "source": [
    "# Define a call function before map, filter or reduce\n",
    "\n",
    "def square_perfomer(x):\n",
    "    return x ** 2\n",
    "\n",
    "nums_sqrd = map(square_perfomer, numbers)\n",
    "print(list(nums_sqrd))"
   ]
  },
  {
   "cell_type": "code",
   "execution_count": 17,
   "id": "481129da",
   "metadata": {},
   "outputs": [
    {
     "name": "stdout",
     "output_type": "stream",
     "text": [
      "['Estonia', 'Finland', 'Sweden', 'Denmark', 'Norway', 'Iceland']\n",
      "['Asabeneh', 'Lidiya', 'Ermias', 'Abraham']\n",
      "[1, 2, 3, 4, 5, 6, 7, 8, 9, 10]\n"
     ]
    }
   ],
   "source": [
    "# Use for loop to print each country in the countries list\n",
    "# Use for to print each name in the names list.\n",
    "# Use for to print each number in the numbers list.\n",
    "\n",
    "def each_country(lst):\n",
    "    return [x for x in lst]\n",
    "\n",
    "def each_name(lst):\n",
    "    return [x for x in lst]\n",
    "\n",
    "def each_number(lst):\n",
    "    return [x for x in lst]\n",
    "\n",
    "print(each_country(countries))\n",
    "print(each_name(names))\n",
    "print(each_number(numbers))"
   ]
  },
  {
   "cell_type": "code",
   "execution_count": null,
   "id": "10787322",
   "metadata": {},
   "outputs": [
    {
     "name": "stdout",
     "output_type": "stream",
     "text": [
      "['ESTONIA', 'FINLAND', 'SWEDEN', 'DENMARK', 'NORWAY', 'ICELAND']\n",
      "[1, 4, 9, 16, 25, 36, 49, 64, 81, 100]\n",
      "['ASABENEH', 'LIDIYA', 'ERMIAS', 'ABRAHAM']\n",
      "['Finland', 'Iceland']\n",
      "['Sweden', 'Norway']\n",
      "['Estonia', 'Finland', 'Sweden', 'Denmark', 'Norway', 'Iceland']\n",
      "['Estonia']\n"
     ]
    }
   ],
   "source": [
    "# Use map to create a new list by changing each country to uppercase in the countries list\n",
    "country_upper = list(map( lambda c: c.upper(), countries))\n",
    "print(country_upper)\n",
    "\n",
    "# Use map to create a new list by changing each number to its square in the numbers list\n",
    "squared_list = list(map( lambda num: num ** 2, numbers))\n",
    "print(squared_list)\n",
    "\n",
    "# Use map to change each name to uppercase in the names list (could have decalred 1 big funtion then pass countries and names)\n",
    "name_upper = list(map( lambda n: n.upper(), names))\n",
    "print(name_upper)\n",
    "\n",
    "# Use filter to filter out countries containing 'land'.\n",
    "land_list = list(filter( lambda name: 'land' in name, countries))\n",
    "print(land_list)\n",
    "\n",
    "# Use filter to filter out countries having exactly six characters.\n",
    "six_char_list = list(filter( lambda name: len(name) == 6, countries))\n",
    "print(six_char_list)\n",
    "\n",
    "# Use filter to filter out countries containing six letters and more in the country list.\n",
    "six_char_or_more_list = list(filter( lambda name: len(name) >= 6, countries))\n",
    "print(six_char_or_more_list)\n",
    "\n",
    "# Use filter to filter out countries starting with an 'E'\n",
    "starting_with_E = list(filter( lambda name: name[0] == 'E', countries))\n",
    "print(starting_with_E)\n",
    "\n"
   ]
  }
 ],
 "metadata": {
  "kernelspec": {
   "display_name": "Python 3",
   "language": "python",
   "name": "python3"
  },
  "language_info": {
   "codemirror_mode": {
    "name": "ipython",
    "version": 3
   },
   "file_extension": ".py",
   "mimetype": "text/x-python",
   "name": "python",
   "nbconvert_exporter": "python",
   "pygments_lexer": "ipython3",
   "version": "3.12.5"
  }
 },
 "nbformat": 4,
 "nbformat_minor": 5
}
