{
 "cells": [
  {
   "cell_type": "markdown",
   "id": "9f500808",
   "metadata": {},
   "source": [
    " In Python, closure is created by nesting a function inside another encapsulating function and then returning the inner function\n",
    "\n",
    " Decorators\n",
    " A decorator is a design pattern in Python that allows a user to add new functionality to an existing object without modifying its structure."
   ]
  },
  {
   "cell_type": "markdown",
   "id": "b363639c",
   "metadata": {},
   "source": [
    "map function\n",
    "filter function- calls the specified function which returns boolean for each item of the specified iterable (list). It filters the items that satisfy the filtering criteria.\n",
    "reduce function- returns a single value "
   ]
  }
 ],
 "metadata": {
  "language_info": {
   "name": "python"
  }
 },
 "nbformat": 4,
 "nbformat_minor": 5
}
