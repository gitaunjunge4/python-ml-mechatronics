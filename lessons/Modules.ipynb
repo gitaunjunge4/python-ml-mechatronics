{
 "cells": [
  {
   "cell_type": "markdown",
   "id": "cd02cdc9",
   "metadata": {},
   "source": [
    "sys module provides functions and variables used to manipulate different parts of the Python runtime environment\n",
    "python os module it is possible to automatically perform many operating system tasks. \n",
    "The OS module in Python provides functions for creating, changing current working directory, and removing a directory (folder), fetching its contents, changing and identifying the current directory\n"
   ]
  },
  {
   "cell_type": "code",
   "execution_count": null,
   "id": "abc2ffaa",
   "metadata": {},
   "outputs": [
    {
     "name": "stdout",
     "output_type": "stream",
     "text": [
      "0G99Zm\n"
     ]
    }
   ],
   "source": [
    "# Writ a function which generates a six digit/character random_user_id\n",
    "\n",
    "import random \n",
    "import string \n",
    "\n",
    "def random_user_id(length = 6):\n",
    "    characters = string.ascii_letters + string.digits\n",
    "    random_id = ''.join(random.choice(characters) for i in range(length))\n",
    "    return random_id\n",
    "\n",
    "print(random_user_id())"
   ]
  },
  {
   "cell_type": "code",
   "execution_count": 15,
   "id": "1ee1c201",
   "metadata": {},
   "outputs": [
    {
     "name": "stdout",
     "output_type": "stream",
     "text": [
      "o9WRH\n",
      "8wetv\n",
      "WKoKp\n",
      "71ZqA\n",
      "0QGQx\n"
     ]
    }
   ],
   "source": [
    "# Declare a function named user_id_gen_by_user. \n",
    "# It doesn’t take any parameters but it takes two inputs using input(). \n",
    "# One of the inputs is the number of characters and the second input is the number of IDs which are supposed to be generated.\n",
    "\n",
    "import random \n",
    "import string \n",
    "\n",
    "def user_id_gen_by_user():\n",
    "    characters = string.ascii_letters + string.digits\n",
    "    try:\n",
    "        num_of_chars = int(input('Enter the number of characters: '))\n",
    "    except ValueError:\n",
    "        print('Please enter valid input')\n",
    "        return\n",
    "\n",
    "    try: \n",
    "        num_of_ids = int(input('Enter the number of ids: '))\n",
    "    except ValueError:\n",
    "        print('Please enter valid input')\n",
    "        return\n",
    "\n",
    "    for i in range(num_of_ids):\n",
    "        random_id = ''.join(random.choice(characters) for x in range(num_of_chars))\n",
    "        print(random_id) \n",
    "\n",
    "user_id_gen_by_user()"
   ]
  },
  {
   "cell_type": "code",
   "execution_count": 20,
   "id": "2852cb30",
   "metadata": {},
   "outputs": [
    {
     "name": "stdout",
     "output_type": "stream",
     "text": [
      "{42, 19, 103}\n"
     ]
    }
   ],
   "source": [
    "# Write a function named rgb_color_gen. \n",
    "# It will generate rgb colors (3 values ranging from 0 to 255 each)\n",
    "\n",
    "import random\n",
    "\n",
    "def rgb_color_gen():\n",
    "    color_set = set()\n",
    "    for x in range(3):\n",
    "        color = random.randint(0, 255)\n",
    "        color_set.add(color)\n",
    "    print(color_set)\n",
    "\n",
    "rgb_color_gen()"
   ]
  },
  {
   "cell_type": "code",
   "execution_count": 27,
   "id": "0218ab89",
   "metadata": {},
   "outputs": [
    {
     "name": "stdout",
     "output_type": "stream",
     "text": [
      "[6, 3, 5, 8, 2, 0, 7, 4, 1, 9]\n"
     ]
    }
   ],
   "source": [
    "# Call your function shuffle_list, it takes a list as a parameter and it returns a shuffled list\n",
    "\n",
    "def shuffle_list(list):\n",
    "    random.shuffle(list)\n",
    "    return list\n",
    "\n",
    "print(shuffle_list([0,1,2,3,4,5,6,7,8,9]))"
   ]
  },
  {
   "cell_type": "code",
   "execution_count": 34,
   "id": "7b857d90",
   "metadata": {},
   "outputs": [
    {
     "name": "stdout",
     "output_type": "stream",
     "text": [
      "[0, 2, 3, 4, 7]\n"
     ]
    }
   ],
   "source": [
    "# Write a function which returns an array of seven random numbers in a range of 0-9. \n",
    "# All the numbers must be unique\n",
    "\n",
    "import random \n",
    "\n",
    "def random_numbers():\n",
    "\n",
    "    nums_set = set()\n",
    "    num_list = []\n",
    "    while len(nums_set) <= 7:\n",
    "        for x in range(7):\n",
    "            ran_num = random.randint(0,9)\n",
    "            nums_set.add(ran_num)\n",
    "            num_list = list(nums_set)\n",
    "        return num_list\n",
    "\n",
    "print(random_numbers())"
   ]
  }
 ],
 "metadata": {
  "kernelspec": {
   "display_name": "Python 3",
   "language": "python",
   "name": "python3"
  },
  "language_info": {
   "codemirror_mode": {
    "name": "ipython",
    "version": 3
   },
   "file_extension": ".py",
   "mimetype": "text/x-python",
   "name": "python",
   "nbconvert_exporter": "python",
   "pygments_lexer": "ipython3",
   "version": "3.12.5"
  }
 },
 "nbformat": 4,
 "nbformat_minor": 5
}
