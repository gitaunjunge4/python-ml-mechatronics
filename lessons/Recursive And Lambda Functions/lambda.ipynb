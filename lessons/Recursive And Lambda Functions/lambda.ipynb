{
 "cells": [
  {
   "cell_type": "markdown",
   "id": "19206a39",
   "metadata": {},
   "source": [
    "lambda v1, v2: expression"
   ]
  },
  {
   "cell_type": "markdown",
   "id": "ddc2b6ad",
   "metadata": {},
   "source": [
    "Mapping, you can loop over a list with lambda by using the map function\n",
    "\n",
    "map( lambda x: expression, iterable-sequences)"
   ]
  },
  {
   "cell_type": "markdown",
   "id": "2f443882",
   "metadata": {},
   "source": [
    "Filtering, so selct particular items in a iterable \n",
    "\n",
    "filter( lambda v1/params: expression, iterable-sequences)"
   ]
  }
 ],
 "metadata": {
  "language_info": {
   "name": "python"
  }
 },
 "nbformat": 4,
 "nbformat_minor": 5
}
