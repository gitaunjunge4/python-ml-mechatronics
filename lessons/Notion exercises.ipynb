{
 "cells": [
  {
   "cell_type": "markdown",
   "id": "7902b0de",
   "metadata": {},
   "source": [
    "NOTION EXERCISE"
   ]
  },
  {
   "cell_type": "code",
   "execution_count": 2,
   "id": "a92d9ffc",
   "metadata": {},
   "outputs": [
    {
     "name": "stdout",
     "output_type": "stream",
     "text": [
      "False\n"
     ]
    }
   ],
   "source": [
    "def safety_check(temp, vib):\n",
    "    # temp least is within 0 and 70\n",
    "    # vib is 0 and less than 2.5\n",
    "\n",
    "    if (0 < temp <= 70) and ( 0 <= vib < 2.5):\n",
    "        return True\n",
    "    else:\n",
    "        return False\n",
    "    \n",
    "print(safety_check(50, 5))"
   ]
  }
 ],
 "metadata": {
  "kernelspec": {
   "display_name": "Python 3",
   "language": "python",
   "name": "python3"
  },
  "language_info": {
   "codemirror_mode": {
    "name": "ipython",
    "version": 3
   },
   "file_extension": ".py",
   "mimetype": "text/x-python",
   "name": "python",
   "nbconvert_exporter": "python",
   "pygments_lexer": "ipython3",
   "version": "3.12.5"
  }
 },
 "nbformat": 4,
 "nbformat_minor": 5
}
