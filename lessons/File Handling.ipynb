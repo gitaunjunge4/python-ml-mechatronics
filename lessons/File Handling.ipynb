{
 "cells": [
  {
   "cell_type": "markdown",
   "id": "93b8a77b",
   "metadata": {},
   "source": [
    "# Syntax\n",
    "open('filename', mode) # mode(r, a, w, x, t,b)  could be to read, write, update\n",
    "\n",
    "\"r\" - Read - Default value. Opens a file for reading, it returns an error if the file does not exist\n",
    "\n",
    "\"a\" - Append - Opens a file for appending, creates the file if it does not exist\n",
    "\n",
    "\"w\" - Write - Opens a file for writing, creates the file if it does not exist\n",
    "\n",
    "\"x\" - Create - Creates the specified file, returns an error if the file exists\n",
    "\n",
    "\"t\" - Text - Default value. Text mode\n",
    "\n",
    "\"b\" - Binary - Binary mode (e.g. images)"
   ]
  },
  {
   "cell_type": "code",
   "execution_count": 8,
   "id": "bfcf0ff8",
   "metadata": {},
   "outputs": [
    {
     "name": "stdout",
     "output_type": "stream",
     "text": [
      "<_io.TextIOWrapper name='./test.py' mode='r' encoding='cp1252'>\n",
      "<class 'str'>\n",
      "# call the functiom\n",
      "# system generates random num\n",
      "# system tells you how many attemps remaining if y\n"
     ]
    }
   ],
   "source": [
    "file = open('./test.py')\n",
    "print(file)\n",
    "txt = file.read(100)\n",
    "print(type(txt))\n",
    "print(txt)\n",
    "file.close()\n",
    "\n",
    "# to read a specified number- read(10)"
   ]
  },
  {
   "cell_type": "code",
   "execution_count": null,
   "id": "66b0b63f",
   "metadata": {},
   "outputs": [
    {
     "name": "stdout",
     "output_type": "stream",
     "text": [
      "<_io.TextIOWrapper name='./test.py' mode='r' encoding='cp1252'>\n",
      "<class 'str'>\n",
      "# call the functiom\n",
      "\n"
     ]
    }
   ],
   "source": [
    "# readline() prints the first line of the file\n",
    "\n",
    "file = open('./test.py')\n",
    "print(file)\n",
    "txt = file.readline()\n",
    "print(type(txt))\n",
    "print(txt)\n",
    "file.close()\n",
    "\n"
   ]
  },
  {
   "cell_type": "code",
   "execution_count": 10,
   "id": "d4d8fc04",
   "metadata": {},
   "outputs": [
    {
     "name": "stdout",
     "output_type": "stream",
     "text": [
      "<_io.TextIOWrapper name='./test.py' mode='r' encoding='cp1252'>\n",
      "<class 'list'>\n",
      "['# call the functiom\\n', '# system generates random num\\n', '# system tells you how many attemps remaining if you fail\\n', '\\n', '\\n', 'import random \\n', '\\n', 'def random_number():\\n', '\\n', '    system_guess = random.randint(1, 50)\\n', '    print(system_guess)\\n', '    attempts = 0 \\n', '    attempts_allowed = 5\\n', '\\n', '    print(\"I\\'m thinking of a number between 1 and 50... Can you guess it?\")\\n', '\\n', '    while attempts < attempts_allowed:\\n', '        try:\\n', \"            user_guess = int(input('Guess the number: '))\\n\", '        except ValueError:\\n', \"            print('Input a valid number.')\\n\", '            continue  # skips all below then starts again if a ValueErro is raised\\n', '\\n', '        attempts += 1\\n', '\\n', '        if user_guess < system_guess:\\n', '            if attempts < attempts_allowed:\\n', \"                print(f'Try higher, you have {attempts_allowed - attempts} attempts left')\\n\", '        elif user_guess > system_guess:\\n', '            if attempts < attempts_allowed: \\n', \"                print(f'Try lower, you have {attempts_allowed - attempts} attempts left')\\n\", '        else:\\n', \"            print(f'Correct guess in just {attempts} tries!!!')\\n\", '            break\\n', '    else:\\n', \"        print(f'Out of attempts. The number was {system_guess}')\\n\", '\\n', '\\n', 'random_number()']\n"
     ]
    }
   ],
   "source": [
    "# readlines(): read all the text line by line and returns a list of lines\n",
    "\n",
    "file = open('./test.py')\n",
    "print(file)\n",
    "txt = file.readlines()\n",
    "print(type(txt))\n",
    "print(txt)\n",
    "file.close()"
   ]
  },
  {
   "cell_type": "code",
   "execution_count": null,
   "id": "a9971edc",
   "metadata": {},
   "outputs": [
    {
     "name": "stdout",
     "output_type": "stream",
     "text": [
      "<_io.TextIOWrapper name='./test.py' mode='r' encoding='cp1252'>\n",
      "<class 'list'>\n",
      "['# call the functiom', '# system generates random num', '# system tells you how many attemps remaining if you fail', '', '', 'import random ', '', 'def random_number():', '', '    system_guess = random.randint(1, 50)', '    print(system_guess)', '    attempts = 0 ', '    attempts_allowed = 5', '', '    print(\"I\\'m thinking of a number between 1 and 50... Can you guess it?\")', '', '    while attempts < attempts_allowed:', '        try:', \"            user_guess = int(input('Guess the number: '))\", '        except ValueError:', \"            print('Input a valid number.')\", '            continue  # skips all below then starts again if a ValueErro is raised', '', '        attempts += 1', '', '        if user_guess < system_guess:', '            if attempts < attempts_allowed:', \"                print(f'Try higher, you have {attempts_allowed - attempts} attempts left')\", '        elif user_guess > system_guess:', '            if attempts < attempts_allowed: ', \"                print(f'Try lower, you have {attempts_allowed - attempts} attempts left')\", '        else:', \"            print(f'Correct guess in just {attempts} tries!!!')\", '            break', '    else:', \"        print(f'Out of attempts. The number was {system_guess}')\", '', '', 'random_number()']\n"
     ]
    }
   ],
   "source": [
    "# splitlines() is a much cleaner way of writing the lines\n",
    "\n",
    "file = open('./test.py')\n",
    "print(file)\n",
    "txt = file.read().splitlines()\n",
    "print(type(txt))\n",
    "print(txt)\n",
    "file.close()"
   ]
  },
  {
   "cell_type": "code",
   "execution_count": 23,
   "id": "5e8c7fdc",
   "metadata": {},
   "outputs": [
    {
     "name": "stdout",
     "output_type": "stream",
     "text": [
      "<class 'list'>\n",
      "['# call the functiom', '# system generates random num', '# system tells you how many attemps remaining if you fail', '', '', 'import random ', '', 'def random_number():', '', '    system_guess = random.randint(1, 50)', '    print(system_guess)', '    attempts = 0 ', '    attempts_allowed = 5', '', '    print(\"I\\'m thinking of a number between 1 and 50... Can you guess it?\")', '', '    while attempts < attempts_allowed:', '        try:', \"            user_guess = int(input('Guess the number: '))\", '        except ValueError:', \"            print('Input a valid number.')\", '            continue  # skips all below then starts again if a ValueErro is raised', '', '        attempts += 1', '', '        if user_guess < system_guess:', '            if attempts < attempts_allowed:', \"                print(f'Try higher, you have {attempts_allowed - attempts} attempts left')\", '        elif user_guess > system_guess:', '            if attempts < attempts_allowed: ', \"                print(f'Try lower, you have {attempts_allowed - attempts} attempts left')\", '        else:', \"            print(f'Correct guess in just {attempts} tries!!!')\", '            break', '    else:', \"        print(f'Out of attempts. The number was {system_guess}')\", '', '', 'random_number()']\n"
     ]
    }
   ],
   "source": [
    "# BEST WAY OF OPENINING THE FILES\n",
    "\n",
    "with open('./test.py') as files:\n",
    "    lines = files.read().splitlines()\n",
    "    print(type(lines))\n",
    "    print(lines)\n",
    "\n"
   ]
  },
  {
   "cell_type": "code",
   "execution_count": 30,
   "id": "1a7ab409",
   "metadata": {},
   "outputs": [],
   "source": [
    "# this is to create a new file, 'w' \n",
    "\n",
    "with open('./writing_file_example.txt','w') as f:\n",
    "    f.write('This text will be written in a newly created file')"
   ]
  },
  {
   "cell_type": "code",
   "execution_count": 31,
   "id": "3959b920",
   "metadata": {},
   "outputs": [],
   "source": [
    "# this is to append to a file, 'a' \n",
    "\n",
    "with open('./writing_file_example.txt','a') as f:\n",
    "    f.write('This text has to be appended at the end')"
   ]
  },
  {
   "cell_type": "code",
   "execution_count": null,
   "id": "04309b60",
   "metadata": {},
   "outputs": [
    {
     "name": "stdout",
     "output_type": "stream",
     "text": [
      "This text will be written in a newly created fileThis text has to be appended at the end\n"
     ]
    }
   ],
   "source": [
    "with open('./writing_file_example.txt') as file:\n",
    "    txt = file.read()\n",
    "    print(txt)"
   ]
  },
  {
   "cell_type": "code",
   "execution_count": null,
   "id": "73f6c6ae",
   "metadata": {},
   "outputs": [
    {
     "name": "stdout",
     "output_type": "stream",
     "text": [
      "This file does not exist\n"
     ]
    }
   ],
   "source": [
    "# to delete created files\n",
    "import os \n",
    "\n",
    "if os.path.exists('./writing_file_example.txt'):\n",
    "    os.remove('./writing_file_example.txt')\n",
    "    print('File successfully deleted')\n",
    "else:\n",
    "    print('This file does not exist')"
   ]
  }
 ],
 "metadata": {
  "kernelspec": {
   "display_name": "Python 3",
   "language": "python",
   "name": "python3"
  },
  "language_info": {
   "codemirror_mode": {
    "name": "ipython",
    "version": 3
   },
   "file_extension": ".py",
   "mimetype": "text/x-python",
   "name": "python",
   "nbconvert_exporter": "python",
   "pygments_lexer": "ipython3",
   "version": "3.12.5"
  }
 },
 "nbformat": 4,
 "nbformat_minor": 5
}
