{
 "cells": [
  {
   "cell_type": "markdown",
   "id": "37951c69",
   "metadata": {},
   "source": [
    "'*' used for unpacking lists, tuples and sets\n",
    "'**' used for unpacking dictionaries \n",
    "'# Unpacks 'data' into individual arguments'"
   ]
  },
  {
   "cell_type": "code",
   "execution_count": 2,
   "id": "870ecc23",
   "metadata": {},
   "outputs": [
    {
     "name": "stdout",
     "output_type": "stream",
     "text": [
      "['Finland', 'Sweden', 'Norway', 'Denmark', 'Iceland', 'Estonia', 'Russia']\n",
      "['Finland', 'Sweden', 'Norway', 'Denmark', 'Iceland']\n",
      "Estonia\n",
      "Russia\n"
     ]
    }
   ],
   "source": [
    "names = ['Finland', 'Sweden', 'Norway','Denmark','Iceland', 'Estonia','Russia'] \n",
    "# Unpack the first five countries and store them in a variable nordic_countries, store Estonia and Russia in es, and ru respectively\n",
    "\n",
    "*nordic_countries, es, ru = names\n",
    "\n",
    "print(names)\n",
    "print(nordic_countries)\n",
    "print(es)\n",
    "print(ru)"
   ]
  }
 ],
 "metadata": {
  "kernelspec": {
   "display_name": "Python 3",
   "language": "python",
   "name": "python3"
  },
  "language_info": {
   "codemirror_mode": {
    "name": "ipython",
    "version": 3
   },
   "file_extension": ".py",
   "mimetype": "text/x-python",
   "name": "python",
   "nbconvert_exporter": "python",
   "pygments_lexer": "ipython3",
   "version": "3.12.5"
  }
 },
 "nbformat": 4,
 "nbformat_minor": 5
}
