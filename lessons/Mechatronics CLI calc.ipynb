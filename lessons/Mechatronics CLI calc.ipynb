{
 "cells": [
  {
   "cell_type": "markdown",
   "id": "f7820023",
   "metadata": {},
   "source": [
    "### CLI CALCULATOR"
   ]
  },
  {
   "cell_type": "code",
   "execution_count": null,
   "id": "3afce055",
   "metadata": {},
   "outputs": [],
   "source": [
    "def cli_calculator(value):\n",
    "    add = 1+1\n",
    "    return add"
   ]
  }
 ],
 "metadata": {
  "language_info": {
   "name": "python"
  }
 },
 "nbformat": 4,
 "nbformat_minor": 5
}
