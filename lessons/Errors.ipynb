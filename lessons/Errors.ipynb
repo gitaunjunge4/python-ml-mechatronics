{
 "cells": [
  {
   "cell_type": "code",
   "execution_count": null,
   "id": "d165df66",
   "metadata": {},
   "outputs": [],
   "source": [
    "print('hello world')"
   ]
  }
 ],
 "metadata": {
  "kernelspec": {
   "display_name": "Python 3",
   "language": "python",
   "name": "python3"
  },
  "language_info": {
   "name": "python",
   "version": "3.12.5"
  }
 },
 "nbformat": 4,
 "nbformat_minor": 5
}
