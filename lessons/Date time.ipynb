{
 "cells": [
  {
   "cell_type": "markdown",
   "id": "ec9ce44f",
   "metadata": {},
   "source": [
    "Getting datetime infomation "
   ]
  },
  {
   "cell_type": "code",
   "execution_count": 1,
   "id": "826c012e",
   "metadata": {},
   "outputs": [
    {
     "name": "stdout",
     "output_type": "stream",
     "text": [
      "2025-10-14 10:12:22.561606\n",
      "14 10 2025 10 12\n",
      "timestamp 1760425942.561606\n",
      "14/10/2025, 10:12\n"
     ]
    }
   ],
   "source": [
    "from datetime import datetime   \n",
    "\n",
    "now = datetime.now()\n",
    "print(now)                 \n",
    "day = now.day                    \n",
    "month = now.month                \n",
    "year = now.year                  \n",
    "hour = now.hour                  \n",
    "minute = now.minute              \n",
    "second = now.second\n",
    "timestamp = now.timestamp()  # timestamp is the number of seconds elapsed from 1st of January 1970 UTC\n",
    "print(day, month, year, hour, minute)\n",
    "print('timestamp', timestamp)\n",
    "print(f'{day}/{month}/{year}, {hour}:{minute}')  \n"
   ]
  },
  {
   "cell_type": "markdown",
   "id": "26aec5a4",
   "metadata": {},
   "source": [
    "Formatting Date Output Using strftime"
   ]
  },
  {
   "cell_type": "code",
   "execution_count": null,
   "id": "32961bf3",
   "metadata": {},
   "outputs": [
    {
     "name": "stdout",
     "output_type": "stream",
     "text": [
      "time: 10:18:57\n",
      "time one: 10/14/25, 10:18:57\n",
      "time two: 14/10/2025, 10:18:57\n"
     ]
    }
   ],
   "source": [
    "from datetime import datetime\n",
    "\n",
    "# current date and time\n",
    "now = datetime.now()\n",
    "t = now.strftime(\"%H:%M:%S\")\n",
    "print(\"time:\", t)\n",
    "\n",
    "time_one = now.strftime(\"%m/%d/%y, %H:%M:%S\")\n",
    "# mm/dd/YY H:M:S format\n",
    "print(\"time one:\", time_one)\n",
    "\n",
    "time_two = now.strftime(\"%d/%m/%Y, %H:%M:%S\")\n",
    "# dd/mm/YY H:M:S format\n",
    "print(\"time two:\", time_two)\n"
   ]
  },
  {
   "cell_type": "markdown",
   "id": "37e205d7",
   "metadata": {},
   "source": [
    "String to Time Using strptime"
   ]
  },
  {
   "cell_type": "code",
   "execution_count": 5,
   "id": "ad5fceb4",
   "metadata": {},
   "outputs": [
    {
     "name": "stdout",
     "output_type": "stream",
     "text": [
      "date_string = 5 December, 2019\n",
      "date_object = 2019-12-05 00:00:00\n"
     ]
    }
   ],
   "source": [
    "from datetime import datetime\n",
    "\n",
    "date_string = \"5 December, 2019\"\n",
    "print(\"date_string =\", date_string)\n",
    "date_object = datetime.strptime(date_string, \"%d %B, %Y\")\n",
    "print(\"date_object =\", date_object)"
   ]
  },
  {
   "cell_type": "markdown",
   "id": "6b45f582",
   "metadata": {},
   "source": [
    "Using date from datetime"
   ]
  },
  {
   "cell_type": "code",
   "execution_count": null,
   "id": "8488793b",
   "metadata": {},
   "outputs": [
    {
     "name": "stdout",
     "output_type": "stream",
     "text": [
      "2020-01-01\n",
      "Current date: 2025-10-14\n",
      "2025-10-14\n",
      "Current year: 2025\n",
      "Current month: 10\n",
      "Current day: 14\n"
     ]
    }
   ],
   "source": [
    "from datetime import date\n",
    "\n",
    "d = date(2020, 1, 1)\n",
    "print(d)\n",
    "print('Current date:', d.today())   \n",
    "\n",
    "# date object of today's date\n",
    "today = date.today()\n",
    "print(\"Date Object\", today)\n",
    "print(\"Current year:\", today.year)   \n",
    "print(\"Current month:\", today.month) \n",
    "print(\"Current day:\", today.day)     "
   ]
  },
  {
   "cell_type": "markdown",
   "id": "be5c453d",
   "metadata": {},
   "source": [
    "Time Objects to Represent Time"
   ]
  },
  {
   "cell_type": "code",
   "execution_count": 9,
   "id": "c3947ec8",
   "metadata": {},
   "outputs": [
    {
     "name": "stdout",
     "output_type": "stream",
     "text": [
      "a = 00:00:00\n",
      "b = 10:30:50\n",
      "c = 10:30:50\n",
      "d = 10:30:50.200555\n"
     ]
    }
   ],
   "source": [
    "from datetime import time\n",
    "\n",
    "# time(hour = 0, minute = 0, second = 0)\n",
    "a = time()\n",
    "print(\"a =\", a)\n",
    "# time(hour, minute and second)\n",
    "b = time(10, 30, 50)\n",
    "print(\"b =\", b)\n",
    "# time(hour, minute and second)\n",
    "c = time(hour=10, minute=30, second=50)\n",
    "print(\"c =\", c)\n",
    "# time(hour, minute, second, microsecond)\n",
    "d = time(10, 30, 50, 200555)\n",
    "print(\"d =\", d)"
   ]
  },
  {
   "cell_type": "markdown",
   "id": "8306a027",
   "metadata": {},
   "source": [
    "Difference between two points using \n",
    "1. basic math \n",
    "2. timedelta"
   ]
  },
  {
   "cell_type": "code",
   "execution_count": 10,
   "id": "4daff925",
   "metadata": {},
   "outputs": [
    {
     "name": "stdout",
     "output_type": "stream",
     "text": [
      "t3 = 86 days, 22:56:50\n"
     ]
    }
   ],
   "source": [
    "from datetime import timedelta\n",
    "\n",
    "t1 = timedelta(weeks=12, days=10, hours=4, seconds=20)\n",
    "t2 = timedelta(days=7, hours=5, minutes=3, seconds=30)\n",
    "t3 = t1 - t2\n",
    "print(\"t3 =\", t3)"
   ]
  },
  {
   "cell_type": "markdown",
   "id": "4b24973c",
   "metadata": {},
   "source": [
    "GIT EXERCISE "
   ]
  },
  {
   "cell_type": "code",
   "execution_count": null,
   "id": "b0c9f8af",
   "metadata": {},
   "outputs": [],
   "source": [
    "# Get the current day, month, year, hour, minute and timestamp from datetime module\n",
    "from datetime import datetime\n",
    "\n",
    "right_now = datetime.now()\n",
    "# Format the current date using this format: \"%m/%d/%Y, %H:%M:%S\")\n",
    "\n",
    "# Today is 5 December, 2019. Change this time string to time.\n",
    "# Calculate the time difference between now and new year.\n",
    "# Calculate the time difference between 1 January 1970 and now."
   ]
  }
 ],
 "metadata": {
  "kernelspec": {
   "display_name": "Python 3",
   "language": "python",
   "name": "python3"
  },
  "language_info": {
   "codemirror_mode": {
    "name": "ipython",
    "version": 3
   },
   "file_extension": ".py",
   "mimetype": "text/x-python",
   "name": "python",
   "nbconvert_exporter": "python",
   "pygments_lexer": "ipython3",
   "version": "3.12.5"
  }
 },
 "nbformat": 4,
 "nbformat_minor": 5
}
