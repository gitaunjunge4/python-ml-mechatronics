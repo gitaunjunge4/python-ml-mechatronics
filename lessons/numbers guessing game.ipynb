{
 "cells": [
  {
   "cell_type": "markdown",
   "id": "8a5980f3",
   "metadata": {},
   "source": [
    "### NUMBERS GUESSING GAME "
   ]
  },
  {
   "cell_type": "markdown",
   "id": "c2ab97f7",
   "metadata": {},
   "source": [
    "Implement a number guessing game (1–50, 5 tries max)"
   ]
  },
  {
   "cell_type": "code",
   "execution_count": 12,
   "id": "80dcea25",
   "metadata": {},
   "outputs": [],
   "source": [
    "import random \n",
    "\n",
    "def random_number():\n",
    "\n",
    "    guess = random.randint(1, 50)\n",
    "    print(guess)\n",
    "    attempts = 0 \n",
    "\n",
    "    while attempts <= 5:\n",
    "        value = int(input('Guess the number: '))\n",
    "        attempts += 1\n",
    "        if value < guess:\n",
    "            print('Try higher')\n",
    "        elif value > guess:\n",
    "            print('Try lower')\n",
    "        else:\n",
    "            print('Correct guess')\n",
    "        break"
   ]
  },
  {
   "cell_type": "code",
   "execution_count": 13,
   "id": "1a8cd81e",
   "metadata": {},
   "outputs": [
    {
     "name": "stdout",
     "output_type": "stream",
     "text": [
      "33\n",
      "Try higher\n"
     ]
    }
   ],
   "source": [
    "random_number()"
   ]
  }
 ],
 "metadata": {
  "kernelspec": {
   "display_name": "Python 3",
   "language": "python",
   "name": "python3"
  },
  "language_info": {
   "codemirror_mode": {
    "name": "ipython",
    "version": 3
   },
   "file_extension": ".py",
   "mimetype": "text/x-python",
   "name": "python",
   "nbconvert_exporter": "python",
   "pygments_lexer": "ipython3",
   "version": "3.12.5"
  }
 },
 "nbformat": 4,
 "nbformat_minor": 5
}
