{
 "cells": [
  {
   "cell_type": "markdown",
   "id": "85df898a",
   "metadata": {},
   "source": [
    "#CONDITIONALS \n"
   ]
  },
  {
   "cell_type": "markdown",
   "id": "8d978c0d",
   "metadata": {},
   "source": [
    "diamond decision node\n",
    "\n",
    "ternary operator \n",
    "synatax- `[on_true] if [condition] else [on_false]`\n",
    "Here, `[condition]` is evaluated first. If it's true, the expression `[on_true]` is executed or returned; if it's false, `[on_false]` is executed or returned.\n",
    "eg status = \"High\" if deforestation_rate > 0.1 else \"Normal\"\n",
    "\n",
    "using logical operators(AND, OR)"
   ]
  }
 ],
 "metadata": {
  "language_info": {
   "name": "python"
  }
 },
 "nbformat": 4,
 "nbformat_minor": 5
}
