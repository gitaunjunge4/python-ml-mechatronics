{
 "cells": [
  {
   "cell_type": "markdown",
   "id": "85df898a",
   "metadata": {},
   "source": [
    "#CONDITIONALS \n"
   ]
  },
  {
   "cell_type": "markdown",
   "id": "8d978c0d",
   "metadata": {},
   "source": [
    "diamond decision node\n",
    "\n",
    "ternary operator \n",
    "synatax- `[on_true] if [condition] else [on_false]`\n",
    "Here, `[condition]` is evaluated first. If it's true, the expression `[on_true]` is executed or returned; if it's false, `[on_false]` is executed or returned.\n",
    "eg status = \"High\" if deforestation_rate > 0.1 else \"Normal\"\n",
    "\n",
    "using logical operators(AND, OR)"
   ]
  },
  {
   "cell_type": "code",
   "execution_count": 2,
   "id": "9289f811",
   "metadata": {},
   "outputs": [
    {
     "name": "stdout",
     "output_type": "stream",
     "text": [
      "Wait 16 years\n"
     ]
    }
   ],
   "source": [
    "# Get user input using input(“Enter your age: ”). \n",
    "# If user is 18 or older, give feedback: You are old enough to drive. \n",
    "# If below 18 give feedback to wait for the missing amount of years.\n",
    "\n",
    "age = int(input('Enter your age: '))\n",
    "if age >= 18:\n",
    "    print('You are old enough to drive.')\n",
    "else:\n",
    "    print(f'Wait {18-age} years')"
   ]
  },
  {
   "cell_type": "code",
   "execution_count": 4,
   "id": "e68e9382",
   "metadata": {},
   "outputs": [
    {
     "name": "stdout",
     "output_type": "stream",
     "text": [
      "You are 20 yrs older\n"
     ]
    }
   ],
   "source": [
    "# Compare the values of my_age and your_age using if … else. \n",
    "# Who is older (me or you)? Use input(“Enter your age: ”) to get the age as input. \n",
    "# You can use a nested condition to print 'year' for 1 year difference in age, 'years' for bigger differences, and \n",
    "# a custom text if my_age = your_age\n",
    "\n",
    "my_age = 20\n",
    "your_age = int(input(\"Enter your age: \"))\n",
    "\n",
    "if my_age > your_age:\n",
    "    print(f'I am {my_age-your_age} yrs older')\n",
    "elif your_age > my_age:\n",
    "    print(f'You are {your_age-my_age} yrs older')\n",
    "else:\n",
    "    print('We are age mates')"
   ]
  },
  {
   "cell_type": "code",
   "execution_count": 5,
   "id": "18d23075",
   "metadata": {},
   "outputs": [
    {
     "name": "stdout",
     "output_type": "stream",
     "text": [
      "Fruit is already there\n"
     ]
    }
   ],
   "source": [
    "fruits = ['banana', 'orange', 'mango', 'lemon']\n",
    "\n",
    "fruit = input('Enter fruit: ')\n",
    "\n",
    "if fruit in fruits:\n",
    "    print('Fruit is already there')\n",
    "else:\n",
    "    fruits.append(fruit)\n",
    "    print(fruits)"
   ]
  },
  {
   "cell_type": "code",
   "execution_count": null,
   "id": "c2b7e16e",
   "metadata": {},
   "outputs": [
    {
     "name": "stdout",
     "output_type": "stream",
     "text": [
      "Node\n",
      "Python\n"
     ]
    }
   ],
   "source": [
    "person={\n",
    "    'first_name': 'Asabeneh',\n",
    "    'last_name': 'Yetayeh',\n",
    "    'age': 250,\n",
    "    'country': 'Finland',\n",
    "    'is_marred': True,\n",
    "    'skills': ['JavaScript', 'React', 'Node', 'MongoDB', 'Python'],\n",
    "    'address': {\n",
    "        'street': 'Space street',\n",
    "        'zipcode': '02210'\n",
    "    }\n",
    "}\n",
    "\n",
    "# Check if the person dictionary has skills key, if so print out the middle skill in the skills list.\n",
    "# Check if the person dictionary has skills key, if so check if the person has 'Python' skill and print out the result.\n",
    "# If a person skills has only JavaScript and React, print('He is a front end developer'), \n",
    "#       if the person skills has Node, Python, MongoDB, print('He is a backend developer'), \n",
    "#       if the person skills has React, Node and MongoDB, Print('He is a fullstack developer'), \n",
    "#        else print('unknown title') - for more accurate results more conditions can be nested!\n",
    "# If the person is married and if he lives in Finland, print the information in the following format:\n",
    "\n",
    "skills = person['skills']\n",
    "\n",
    "if \"skills\" in person.keys():\n",
    "    skill = len(skills)//2\n",
    "    print(skills[skill])\n",
    "\n",
    "if \"skills\" in person.keys():\n",
    "    if 'Python' in skills:\n",
    "        print(\"Python\")\n",
    "\n",
    "\n",
    "if skills == [\"JavaScript\", \"React\"]:\n",
    "    print('He is a front end developer')\n",
    "elif all(skill in skills ):\n"
   ]
  }
 ],
 "metadata": {
  "kernelspec": {
   "display_name": "Python 3",
   "language": "python",
   "name": "python3"
  },
  "language_info": {
   "codemirror_mode": {
    "name": "ipython",
    "version": 3
   },
   "file_extension": ".py",
   "mimetype": "text/x-python",
   "name": "python",
   "nbconvert_exporter": "python",
   "pygments_lexer": "ipython3",
   "version": "3.12.5"
  }
 },
 "nbformat": 4,
 "nbformat_minor": 5
}
