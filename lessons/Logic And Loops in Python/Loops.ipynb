{
 "cells": [
  {
   "cell_type": "markdown",
   "id": "01f749c4",
   "metadata": {},
   "source": [
    "* **`for` loops:** Ideal for going through a sequence (like a list, tuple, or string), one by one. We use `for` loops when we know how many things there are in a list. \n",
    "\n",
    "* **`while` loops:** While loops continue to execute a set of instructions as long as a certain condition is met. \n",
    "\n",
    "`break` immediately stops the execution of a loop, and the control flows to the statement immediately after the loop.\n",
    "\n",
    "`continue` skips the rest of the loop's **body** for the current iteration and moves to the next iteration.\n",
    " skip the current iteration, and continue with the next\n",
    "\n",
    "pass\n",
    "\n",
    "for key, value in dict.items():\n",
    "\n",
    "# syntax\n",
    "for iterator in range(start, end, step):\n",
    "\n",
    "If we want to execute some message when the loop ends, we use else."
   ]
  },
  {
   "cell_type": "code",
   "execution_count": 3,
   "id": "12395fd6",
   "metadata": {},
   "outputs": [
    {
     "name": "stdout",
     "output_type": "stream",
     "text": [
      "hi\n",
      "0\n",
      "Next number should be  1\n",
      "1\n",
      "Next number should be  2\n",
      "2\n",
      "Next number should be  3\n",
      "3\n",
      "4\n",
      "Next number should be  5\n",
      "5\n",
      "loop's end\n",
      "hi\n"
     ]
    }
   ],
   "source": [
    "print('hi')\n",
    "numbers = (0,1,2,3,4,5)\n",
    "for number in numbers:\n",
    "    print(number)\n",
    "    if number == 3:\n",
    "        continue\n",
    "    print('Next number should be ', number + 1) if number != 5 else print(\"loop's end\") # for short hand conditions need both if and else statements\n",
    "# print('outside the loop')\n",
    "else:\n",
    "    print('hi')"
   ]
  }
 ],
 "metadata": {
  "kernelspec": {
   "display_name": "Python 3",
   "language": "python",
   "name": "python3"
  },
  "language_info": {
   "codemirror_mode": {
    "name": "ipython",
    "version": 3
   },
   "file_extension": ".py",
   "mimetype": "text/x-python",
   "name": "python",
   "nbconvert_exporter": "python",
   "pygments_lexer": "ipython3",
   "version": "3.12.5"
  }
 },
 "nbformat": 4,
 "nbformat_minor": 5
}
